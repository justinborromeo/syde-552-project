{
 "cells": [
  {
   "cell_type": "code",
   "execution_count": 1,
   "metadata": {
    "colab": {
     "base_uri": "https://localhost:8080/"
    },
    "id": "FMNk5I28e68j",
    "outputId": "397bea1a-89f5-4b29-97f4-daf44b0eb6ff"
   },
   "outputs": [],
   "source": [
    "import numpy as np\n",
    "import matplotlib.pyplot as plt\n",
    "import keras_spiking\n",
    "import tensorflow as tf"
   ]
  },
  {
   "cell_type": "code",
   "execution_count": 2,
   "metadata": {
    "id": "W4aDtcpee68t"
   },
   "outputs": [],
   "source": [
    "# Load CIFAR 10\n",
    "(\n",
    "    (train_images, train_labels),\n",
    "    (test_images, test_labels),\n",
    ") = tf.keras.datasets.mnist.load_data()"
   ]
  },
  {
   "cell_type": "code",
   "execution_count": 3,
   "metadata": {
    "id": "gvYtiV7Se68u"
   },
   "outputs": [],
   "source": [
    "# normalize images so values are between 0 and 1\n",
    "train_images = train_images / 255.0\n",
    "test_images = test_images / 255.0"
   ]
  },
  {
   "cell_type": "code",
   "execution_count": 6,
   "metadata": {
    "id": "aSNg_RcUe68v"
   },
   "outputs": [],
   "source": [
    "from tensorflow.keras.callbacks import EarlyStopping\n",
    "\n",
    "es = EarlyStopping(monitor='val_loss', mode='min', verbose=1)\n",
    "\n",
    "topologies = [\n",
    "    [64, 64],\n",
    "    [32],\n",
    "    [32, 32],\n",
    "    [64],\n",
    "    [128],\n",
    "]\n",
    "\n",
    "def generate_non_spiking_model(topology):\n",
    "    layers = [tf.keras.layers.Flatten(input_shape=(28, 28))]\n",
    "    for hidden_layer_size in topology:\n",
    "        layers.append(tf.keras.layers.Dense(hidden_layer_size, activation=\"relu\"))\n",
    "    layers.append(tf.keras.layers.Dense(10))\n",
    "    model = tf.keras.Sequential(layers)\n",
    "    return model\n",
    "\n",
    "def generate_spiking_model(topology):\n",
    "    layers = [tf.keras.layers.Reshape((-1, 28 * 28), input_shape=(None, 28, 28))]\n",
    "    for hidden_layer_size in topology:\n",
    "        layers.append(tf.keras.layers.TimeDistributed(tf.keras.layers.Dense(hidden_layer_size)))\n",
    "        layers.append(keras_spiking.SpikingActivation(\"relu\", dt=0.01, spiking_aware_training=True))\n",
    "    layers.append(tf.keras.layers.GlobalAveragePooling1D(),)\n",
    "    layers.append(tf.keras.layers.Dense(10))\n",
    "    model = tf.keras.Sequential(layers)\n",
    "    return model\n",
    "\n",
    "def train(input_model, train_x, test_x):\n",
    "    input_model.compile(\n",
    "        optimizer=\"adam\",\n",
    "        loss=tf.keras.losses.SparseCategoricalCrossentropy(from_logits=True),\n",
    "        metrics=[\"accuracy\"],\n",
    "    )\n",
    "    \n",
    "    num_epochs = 20\n",
    "    best_test_acc = 0\n",
    "    for num_epoch in range(num_epochs):\n",
    "        input_model.fit(train_x, train_labels, epochs=1)\n",
    "        _, test_acc = input_model.evaluate(test_x, test_labels, verbose=2)\n",
    "        if test_acc > best_test_acc:\n",
    "            best_epoch_model = tf.keras.models.clone_model(input_model)\n",
    "            best_test_acc = test_acc\n",
    "    return test_acc, best_epoch_model"
   ]
  },
  {
   "cell_type": "code",
   "execution_count": 7,
   "metadata": {
    "id": "gZqjkiCee68w"
   },
   "outputs": [],
   "source": [
    "n_steps = 10\n",
    "train_sequences = np.tile(train_images[:, None], (1, n_steps, 1, 1))\n",
    "test_sequences = np.tile(test_images[:, None], (1, n_steps, 1, 1))"
   ]
  },
  {
   "cell_type": "code",
   "execution_count": null,
   "metadata": {
    "colab": {
     "base_uri": "https://localhost:8080/"
    },
    "id": "VHqVdLEFe68x",
    "outputId": "2949a949-d2a8-4bdf-fcc0-dabb8ccd1891"
   },
   "outputs": [
    {
     "name": "stdout",
     "output_type": "stream",
     "text": [
      "[64, 64]\n",
      "1875/1875 [==============================] - 47s 24ms/step - loss: 3.1326 - accuracy: 0.4708\n",
      "313/313 - 3s - loss: 0.6753 - accuracy: 0.8029\n",
      "1875/1875 [==============================] - 42s 22ms/step - loss: 0.5854 - accuracy: 0.82050s - loss: 0.5861 - \n",
      "313/313 - 3s - loss: 0.4664 - accuracy: 0.8578\n",
      "1875/1875 [==============================] - 45s 24ms/step - loss: 0.4546 - accuracy: 0.8598\n",
      "313/313 - 3s - loss: 0.3843 - accuracy: 0.8802\n",
      "1875/1875 [==============================] - 44s 24ms/step - loss: 0.3772 - accuracy: 0.8845\n",
      "313/313 - 3s - loss: 0.3235 - accuracy: 0.9025\n",
      "1875/1875 [==============================] - 43s 23ms/step - loss: 0.3386 - accuracy: 0.8965\n",
      "313/313 - 3s - loss: 0.3297 - accuracy: 0.8983\n",
      "1875/1875 [==============================] - 43s 23ms/step - loss: 0.3076 - accuracy: 0.9058\n",
      "313/313 - 3s - loss: 0.2839 - accuracy: 0.9112\n",
      "1875/1875 [==============================] - 45s 24ms/step - loss: 0.2888 - accuracy: 0.9115\n",
      "313/313 - 3s - loss: 0.2650 - accuracy: 0.9190\n",
      "1875/1875 [==============================] - 43s 23ms/step - loss: 0.2683 - accuracy: 0.9183\n",
      "313/313 - 3s - loss: 0.2484 - accuracy: 0.9253\n",
      "1875/1875 [==============================] - 45s 24ms/step - loss: 0.2561 - accuracy: 0.9215\n",
      "313/313 - 3s - loss: 0.2738 - accuracy: 0.9171\n",
      "1875/1875 [==============================] - 45s 24ms/step - loss: 0.2401 - accuracy: 0.9267\n",
      "313/313 - 3s - loss: 0.2284 - accuracy: 0.9309\n",
      "1875/1875 [==============================] - 44s 23ms/step - loss: 0.2268 - accuracy: 0.9295\n",
      "313/313 - 3s - loss: 0.2372 - accuracy: 0.9260\n",
      " 461/1875 [======>.......................] - ETA: 35s - loss: 0.2307 - accuracy: 0.9307"
     ]
    }
   ],
   "source": [
    "models = dict()\n",
    "for topology in topologies:\n",
    "    print(str(topology))\n",
    "    spiking_model = generate_spiking_model(topology)\n",
    "    test_acc, best_model = train(spiking_model, train_sequences, test_sequences)\n",
    "    models[str(topology)] = best_model"
   ]
  },
  {
   "cell_type": "code",
   "execution_count": null,
   "metadata": {
    "id": "VomgUQk2e68y"
   },
   "outputs": [],
   "source": [
    "asdf = {\n",
    "    \"128,128\": 94.20,\n",
    "    \"64,64\": 93.47,\n",
    "    \"32\": 92.51,\n",
    "    \"32,32\": 91.08,\n",
    "    \"64\": 94.53,\n",
    "    \"128\": 94.63\n",
    "}"
   ]
  }
 ],
 "metadata": {
  "accelerator": "GPU",
  "colab": {
   "name": "architectures.ipynb",
   "provenance": []
  },
  "kernelspec": {
   "display_name": "Python 3",
   "language": "python",
   "name": "python3"
  },
  "language_info": {
   "codemirror_mode": {
    "name": "ipython",
    "version": 3
   },
   "file_extension": ".py",
   "mimetype": "text/x-python",
   "name": "python",
   "nbconvert_exporter": "python",
   "pygments_lexer": "ipython3",
   "version": "3.7.4"
  }
 },
 "nbformat": 4,
 "nbformat_minor": 1
}
