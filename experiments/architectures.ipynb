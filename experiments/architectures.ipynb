{
 "cells": [
  {
   "cell_type": "code",
   "execution_count": 1,
   "metadata": {},
   "outputs": [],
   "source": [
    "import numpy as np\n",
    "import matplotlib.pyplot as plt\n",
    "import keras_spiking\n",
    "import tensorflow as tf"
   ]
  },
  {
   "cell_type": "code",
   "execution_count": 2,
   "metadata": {},
   "outputs": [],
   "source": [
    "# Load CIFAR 10\n",
    "(\n",
    "    (train_images, train_labels),\n",
    "    (test_images, test_labels),\n",
    ") = tf.keras.datasets.mnist.load_data()"
   ]
  },
  {
   "cell_type": "code",
   "execution_count": 3,
   "metadata": {},
   "outputs": [],
   "source": [
    "# normalize images so values are between 0 and 1\n",
    "train_images = train_images / 255.0\n",
    "test_images = test_images / 255.0"
   ]
  },
  {
   "cell_type": "code",
   "execution_count": 4,
   "metadata": {},
   "outputs": [],
   "source": [
    "from tensorflow.keras.callbacks import EarlyStopping\n",
    "\n",
    "es = EarlyStopping(monitor='val_loss', mode='min', verbose=1)\n",
    "\n",
    "topologies = [\n",
    "    [32],\n",
    "    [32, 32],\n",
    "    [64],\n",
    "    [64, 64],\n",
    "    [128],\n",
    "    [128, 128]\n",
    "]\n",
    "\n",
    "def generate_non_spiking_model(topology):\n",
    "    layers = [tf.keras.layers.Flatten(input_shape=(28, 28))]\n",
    "    for hidden_layer_size in topology:\n",
    "        layers.append(tf.keras.layers.Dense(hidden_layer_size, activation=\"relu\"))\n",
    "    layers.append(tf.keras.layers.Dense(10))\n",
    "    model = tf.keras.Sequential(layers)\n",
    "    return model\n",
    "\n",
    "def generate_spiking_model(topology):\n",
    "    layers = [tf.keras.layers.Reshape((-1, 28 * 28), input_shape=(None, 28, 28))]\n",
    "    for hidden_layer_size in topology:\n",
    "        layers.append(tf.keras.layers.TimeDistributed(tf.keras.layers.Dense(hidden_layer_size)))\n",
    "        layers.append(keras_spiking.SpikingActivation(\"relu\", spiking_aware_training=False))\n",
    "        layers.append(tf.keras.layers.GlobalAveragePooling1D(),)\n",
    "    layers.append(tf.keras.layers.Dense(10))\n",
    "    model = tf.keras.Sequential(layers)\n",
    "    return model\n",
    "\n",
    "def train(input_model, train_x, test_x):\n",
    "    input_model.compile(\n",
    "        optimizer=\"adam\",\n",
    "        loss=tf.keras.losses.SparseCategoricalCrossentropy(from_logits=True),\n",
    "        metrics=[\"accuracy\"],\n",
    "    )\n",
    "    num_epochs = 10\n",
    "    best_test_acc = 0\n",
    "    for epoch in range(num_epochs):\n",
    "        input_model.fit(train_x, train_labels, epochs=1)\n",
    "        _, test_acc = input_model.evaluate(test_x, test_labels, verbose=2)\n",
    "        if test_acc > best_test_acc:\n",
    "            best_test_acc = test_acc"
   ]
  },
  {
   "cell_type": "code",
   "execution_count": 5,
   "metadata": {},
   "outputs": [
    {
     "name": "stdout",
     "output_type": "stream",
     "text": [
      "1875/1875 [==============================] - 31s 15ms/step - loss: 0.4302 - accuracy: 0.8776\n",
      "313/313 - 2s - loss: 10.7269 - accuracy: 0.1810\n",
      "\n",
      "Test accuracy: 0.1809999942779541 , Epoch: 1\n",
      "1875/1875 [==============================] - 28s 15ms/step - loss: 0.1116 - accuracy: 0.9671\n",
      "313/313 - 2s - loss: 11.5206 - accuracy: 0.1757\n",
      "\n",
      "Test accuracy: 0.17569999396800995 , Epoch: 2\n",
      "1875/1875 [==============================] - 29s 16ms/step - loss: 0.0774 - accuracy: 0.9772\n",
      "313/313 - 2s - loss: 12.1336 - accuracy: 0.1729\n",
      "\n",
      "Test accuracy: 0.1729000061750412 , Epoch: 3\n",
      "1875/1875 [==============================] - 28s 15ms/step - loss: 0.0564 - accuracy: 0.9829\n",
      "313/313 - 2s - loss: 13.2952 - accuracy: 0.1695\n",
      "\n",
      "Test accuracy: 0.16949999332427979 , Epoch: 4\n",
      "1875/1875 [==============================] - 29s 16ms/step - loss: 0.0453 - accuracy: 0.9858\n",
      "313/313 - 2s - loss: 14.2442 - accuracy: 0.1725\n",
      "\n",
      "Test accuracy: 0.17249999940395355 , Epoch: 5\n",
      "1875/1875 [==============================] - 29s 15ms/step - loss: 0.0348 - accuracy: 0.9890\n",
      "313/313 - 2s - loss: 15.8159 - accuracy: 0.1787\n",
      "\n",
      "Test accuracy: 0.17870000004768372 , Epoch: 6\n",
      "1875/1875 [==============================] - 29s 15ms/step - loss: 0.0283 - accuracy: 0.9910\n",
      "313/313 - 2s - loss: 16.2201 - accuracy: 0.1803\n",
      "\n",
      "Test accuracy: 0.18029999732971191 , Epoch: 7\n",
      "1875/1875 [==============================] - 29s 15ms/step - loss: 0.0227 - accuracy: 0.9930\n",
      "313/313 - 2s - loss: 17.5342 - accuracy: 0.1852\n",
      "\n",
      "Test accuracy: 0.18520000576972961 , Epoch: 8\n",
      "1875/1875 [==============================] - 30s 16ms/step - loss: 0.0188 - accuracy: 0.9942\n",
      "313/313 - 2s - loss: 17.6922 - accuracy: 0.1773\n",
      "\n",
      "Test accuracy: 0.17730000615119934 , Epoch: 9\n",
      "1875/1875 [==============================] - 29s 16ms/step - loss: 0.0154 - accuracy: 0.9953\n",
      "313/313 - 2s - loss: 18.8027 - accuracy: 0.1874\n",
      "\n",
      "Test accuracy: 0.1873999983072281 , Epoch: 10\n"
     ]
    },
    {
     "ename": "NameError",
     "evalue": "name 'hist' is not defined",
     "output_type": "error",
     "traceback": [
      "\u001b[1;31m---------------------------------------------------------------------------\u001b[0m",
      "\u001b[1;31mNameError\u001b[0m                                 Traceback (most recent call last)",
      "\u001b[1;32m<ipython-input-5-26a52b394b16>\u001b[0m in \u001b[0;36m<module>\u001b[1;34m\u001b[0m\n\u001b[0;32m      3\u001b[0m \u001b[0mtrain_sequences\u001b[0m \u001b[1;33m=\u001b[0m \u001b[0mnp\u001b[0m\u001b[1;33m.\u001b[0m\u001b[0mtile\u001b[0m\u001b[1;33m(\u001b[0m\u001b[0mtrain_images\u001b[0m\u001b[1;33m[\u001b[0m\u001b[1;33m:\u001b[0m\u001b[1;33m,\u001b[0m \u001b[1;32mNone\u001b[0m\u001b[1;33m]\u001b[0m\u001b[1;33m,\u001b[0m \u001b[1;33m(\u001b[0m\u001b[1;36m1\u001b[0m\u001b[1;33m,\u001b[0m \u001b[0mn_steps\u001b[0m\u001b[1;33m,\u001b[0m \u001b[1;36m1\u001b[0m\u001b[1;33m,\u001b[0m \u001b[1;36m1\u001b[0m\u001b[1;33m)\u001b[0m\u001b[1;33m)\u001b[0m\u001b[1;33m\u001b[0m\u001b[1;33m\u001b[0m\u001b[0m\n\u001b[0;32m      4\u001b[0m \u001b[0mtest_sequences\u001b[0m \u001b[1;33m=\u001b[0m \u001b[0mnp\u001b[0m\u001b[1;33m.\u001b[0m\u001b[0mtile\u001b[0m\u001b[1;33m(\u001b[0m\u001b[0mtest_images\u001b[0m\u001b[1;33m[\u001b[0m\u001b[1;33m:\u001b[0m\u001b[1;33m,\u001b[0m \u001b[1;32mNone\u001b[0m\u001b[1;33m]\u001b[0m\u001b[1;33m,\u001b[0m \u001b[1;33m(\u001b[0m\u001b[1;36m1\u001b[0m\u001b[1;33m,\u001b[0m \u001b[0mn_steps\u001b[0m\u001b[1;33m,\u001b[0m \u001b[1;36m1\u001b[0m\u001b[1;33m,\u001b[0m \u001b[1;36m1\u001b[0m\u001b[1;33m)\u001b[0m\u001b[1;33m)\u001b[0m\u001b[1;33m\u001b[0m\u001b[1;33m\u001b[0m\u001b[0m\n\u001b[1;32m----> 5\u001b[1;33m \u001b[0mhist\u001b[0m \u001b[1;33m=\u001b[0m \u001b[0mtrain\u001b[0m\u001b[1;33m(\u001b[0m\u001b[0mspiking_mod_1\u001b[0m\u001b[1;33m,\u001b[0m \u001b[0mtrain_sequences\u001b[0m\u001b[1;33m,\u001b[0m \u001b[0mtest_sequences\u001b[0m\u001b[1;33m)\u001b[0m\u001b[1;33m\u001b[0m\u001b[1;33m\u001b[0m\u001b[0m\n\u001b[0m\u001b[0;32m      6\u001b[0m \u001b[0mprint\u001b[0m\u001b[1;33m(\u001b[0m\u001b[0mhist\u001b[0m\u001b[1;33m)\u001b[0m\u001b[1;33m\u001b[0m\u001b[1;33m\u001b[0m\u001b[0m\n",
      "\u001b[1;32m<ipython-input-4-0205faa61c63>\u001b[0m in \u001b[0;36mtrain\u001b[1;34m(input_model, train_x, test_x)\u001b[0m\n\u001b[0;32m     44\u001b[0m         \u001b[0m_\u001b[0m\u001b[1;33m,\u001b[0m \u001b[0mtest_acc\u001b[0m \u001b[1;33m=\u001b[0m \u001b[0minput_model\u001b[0m\u001b[1;33m.\u001b[0m\u001b[0mevaluate\u001b[0m\u001b[1;33m(\u001b[0m\u001b[0mtest_x\u001b[0m\u001b[1;33m,\u001b[0m \u001b[0mtest_labels\u001b[0m\u001b[1;33m,\u001b[0m \u001b[0mverbose\u001b[0m\u001b[1;33m=\u001b[0m\u001b[1;36m2\u001b[0m\u001b[1;33m)\u001b[0m\u001b[1;33m\u001b[0m\u001b[1;33m\u001b[0m\u001b[0m\n\u001b[0;32m     45\u001b[0m         \u001b[0mprint\u001b[0m\u001b[1;33m(\u001b[0m\u001b[1;34m\"\\nTest accuracy:\"\u001b[0m\u001b[1;33m,\u001b[0m \u001b[0mtest_acc\u001b[0m\u001b[1;33m,\u001b[0m \u001b[1;34m\", Epoch:\"\u001b[0m\u001b[1;33m,\u001b[0m \u001b[0mepoch\u001b[0m\u001b[1;33m+\u001b[0m\u001b[1;36m1\u001b[0m\u001b[1;33m)\u001b[0m\u001b[1;33m\u001b[0m\u001b[1;33m\u001b[0m\u001b[0m\n\u001b[1;32m---> 46\u001b[1;33m     \u001b[1;32mreturn\u001b[0m \u001b[0mhist\u001b[0m\u001b[1;33m\u001b[0m\u001b[1;33m\u001b[0m\u001b[0m\n\u001b[0m",
      "\u001b[1;31mNameError\u001b[0m: name 'hist' is not defined"
     ]
    }
   ],
   "source": [
    "for topology in topologies:\n",
    "    spiking_model = generate_spiking_model([128])\n",
    "n_steps = 10\n",
    "train_sequences = np.tile(train_images[:, None], (1, n_steps, 1, 1))\n",
    "test_sequences = np.tile(test_images[:, None], (1, n_steps, 1, 1))\n",
    "hist = train(spiking_mod_1, train_sequences, test_sequences)\n",
    "print(hist)\n"
   ]
  },
  {
   "cell_type": "code",
   "execution_count": null,
   "metadata": {},
   "outputs": [],
   "source": []
  }
 ],
 "metadata": {
  "kernelspec": {
   "display_name": "Python 3",
   "language": "python",
   "name": "python3"
  },
  "language_info": {
   "codemirror_mode": {
    "name": "ipython",
    "version": 3
   },
   "file_extension": ".py",
   "mimetype": "text/x-python",
   "name": "python",
   "nbconvert_exporter": "python",
   "pygments_lexer": "ipython3",
   "version": "3.7.4"
  }
 },
 "nbformat": 4,
 "nbformat_minor": 2
}
