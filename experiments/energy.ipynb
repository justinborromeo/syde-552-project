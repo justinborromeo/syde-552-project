{
 "cells": [
  {
   "cell_type": "markdown",
   "id": "improving-boating",
   "metadata": {},
   "source": [
    "ergrant jborromeo SYDE 552 Final Project"
   ]
  },
  {
   "cell_type": "code",
   "execution_count": 1,
   "id": "loose-delaware",
   "metadata": {},
   "outputs": [],
   "source": [
    "import matplotlib.pyplot as plt\n",
    "import numpy as np\n",
    "import tensorflow as tf\n",
    "\n",
    "import keras_spiking\n",
    "\n",
    "tf.random.set_seed(0)\n",
    "np.random.seed(0)"
   ]
  },
  {
   "cell_type": "code",
   "execution_count": 2,
   "id": "narrative-somalia",
   "metadata": {},
   "outputs": [],
   "source": [
    "# Load CIFAR-10 Dataset (Colour Images)\n",
    "((train_images, train_labels),(test_images, test_labels),) = tf.keras.datasets.cifar10.load_data()\n",
    "train_labels = train_labels.squeeze()\n",
    "test_labels = test_labels.squeeze()\n",
    "\n",
    "# maximum of each colour is 255\n",
    "#print(np.max(train_images[0], axis=(0,1)))\n",
    "\n",
    "# normalize images so values are between 0 and 1\n",
    "train_images = train_images / 255.0\n",
    "test_images = test_images / 255.0\n",
    "\n",
    "class_names = [\n",
    "    \"airplane\",\n",
    "    \"automobile\",\n",
    "    \"bird\",\n",
    "    \"cat\",\n",
    "    \"deer\",\n",
    "    \"dog\",\n",
    "    \"frog\",\n",
    "    \"horse\",\n",
    "    \"ship\",\n",
    "    \"truck\",\n",
    "]\n",
    "num_classes = len(class_names)"
   ]
  },
  {
   "cell_type": "markdown",
   "id": "hungry-singing",
   "metadata": {},
   "source": [
    "## Non-Spiking Model for Comparison"
   ]
  },
  {
   "cell_type": "code",
   "execution_count": null,
   "id": "patient-alloy",
   "metadata": {},
   "outputs": [],
   "source": [
    "model = tf.keras.Sequential(\n",
    "    [\n",
    "        tf.keras.layers.Flatten(input_shape=(32, 32,3)),\n",
    "        tf.keras.layers.Dense(128, activation=\"relu\"),\n",
    "        tf.keras.layers.Dense(10),\n",
    "    ]\n",
    ")\n",
    "\n",
    "\n",
    "def train(input_model, train_x, test_x):\n",
    "    input_model.compile(\n",
    "        optimizer=\"adam\",\n",
    "        loss=tf.keras.losses.SparseCategoricalCrossentropy(from_logits=True),\n",
    "        metrics=[\"accuracy\"],\n",
    "    )\n",
    "\n",
    "    input_model.fit(train_x, train_labels, epochs=10)\n",
    "\n",
    "    _, test_acc = input_model.evaluate(test_x, test_labels, verbose=2)\n",
    "\n",
    "    print(\"\\nTest accuracy:\", test_acc)\n",
    "\n",
    "\n",
    "train(model, train_images, test_images)"
   ]
  }
 ],
 "metadata": {
  "kernelspec": {
   "display_name": "Python 3",
   "language": "python",
   "name": "python3"
  },
  "language_info": {
   "codemirror_mode": {
    "name": "ipython",
    "version": 3
   },
   "file_extension": ".py",
   "mimetype": "text/x-python",
   "name": "python",
   "nbconvert_exporter": "python",
   "pygments_lexer": "ipython3",
   "version": "3.8.2"
  }
 },
 "nbformat": 4,
 "nbformat_minor": 5
}
