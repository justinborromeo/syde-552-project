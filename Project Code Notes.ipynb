{
  "nbformat": 4,
  "nbformat_minor": 5,
  "metadata": {
    "kernelspec": {
      "display_name": "Python 3",
      "language": "python",
      "name": "python3"
    },
    "language_info": {
      "codemirror_mode": {
        "name": "ipython",
        "version": 3
      },
      "file_extension": ".py",
      "mimetype": "text/x-python",
      "name": "python",
      "nbconvert_exporter": "python",
      "pygments_lexer": "ipython3",
      "version": "3.8.2"
    },
    "colab": {
      "name": "Project Code Notes.ipynb",
      "provenance": []
    }
  },
  "cells": [
    {
      "cell_type": "code",
      "metadata": {
        "id": "acquired-admission"
      },
      "source": [
        "import nengo\n",
        "import numpy as np\n",
        "import matplotlib.pyplot as plt"
      ],
      "id": "acquired-admission",
      "execution_count": null,
      "outputs": []
    },
    {
      "cell_type": "code",
      "metadata": {
        "id": "technological-mentor"
      },
      "source": [
        "# Nice"
      ],
      "id": "technological-mentor",
      "execution_count": 1,
      "outputs": []
    },
    {
      "cell_type": "code",
      "metadata": {
        "id": "xURnci0vqqFL"
      },
      "source": [
        "# What happens when we open in Google Colab"
      ],
      "id": "xURnci0vqqFL",
      "execution_count": null,
      "outputs": []
    }
  ]
}